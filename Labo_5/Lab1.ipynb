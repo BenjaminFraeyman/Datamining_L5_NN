{
 "cells": [
  {
   "cell_type": "markdown",
   "metadata": {},
   "source": [
    "# Lab: Neural networks\n",
    "\n",
    "\n",
    "These exercises should be done individually (i.e. no plagerism). Discussion is allowed.\n",
    "\n",
    "\n",
    "## Exercise 1\n",
    "\n",
    "> Structure the code so you have a function for forward and backpropagation.\n",
    "\n",
    "> By having a function that does the forward pass through the network and another function to do the backpropagation step, neural networks with many layers can be created easily\n",
    "\n",
    "> Use the example code that was given to do this. Make sure to think about what you are doing. This is not just a copy-paste exercise\n",
    "\n"
   ]
  },
  {
   "cell_type": "markdown",
   "metadata": {},
   "source": [
    "Name: Benjamin Fraeyman"
   ]
  },
  {
   "cell_type": "markdown",
   "metadata": {},
   "source": [
    "#### Imports"
   ]
  },
  {
   "cell_type": "code",
   "execution_count": 85,
   "metadata": {},
   "outputs": [],
   "source": [
    "import numpy as np\n",
    "import matplotlib.pylab as plt\n",
    "from NN_Helper import Gradient_Checker\n",
    "gradient_checker = Gradient_Checker(limit=1.0*np.exp(-8))"
   ]
  },
  {
   "cell_type": "markdown",
   "metadata": {},
   "source": [
    "#### Create toy dataset\n",
    "\n",
    "> The dataset has the following dimensions $[n,d]$\n",
    "\n",
    "> $n$ is the amount of samples\n",
    "\n",
    "> $d$ is the dimensionality of the data (4 in this case)\n"
   ]
  },
  {
   "cell_type": "code",
   "execution_count": 86,
   "metadata": {},
   "outputs": [],
   "source": [
    "# Set containing samples with features\n",
    "\n",
    "#X has 6 samples (n) and each sample has 4 features (d)\n",
    "X = np.array([  [0.,0.,1.,0.],\n",
    "                [0.,1.,1.,0.],\n",
    "                [1.,0.,1.,0.],\n",
    "                [1.,1.,1.,0.],\n",
    "                [0.,0.,1.,1.],\n",
    "                [0.,1.,1.,1.]])\n",
    "\n",
    "# Ground truth\n",
    "y = np.array([  [1.,0.,0.],\n",
    "                [1.,0.,0.],\n",
    "                [0.,1.,0.],\n",
    "                [0.,1.,0.],\n",
    "                [0.,0.,1.],\n",
    "                [0.,0.,1.]])\n",
    "\n",
    "n_samples = float(len(X))"
   ]
  },
  {
   "cell_type": "markdown",
   "metadata": {},
   "source": [
    "#### Initialize weight matrix\n",
    "\n",
    "> The matrix has the following dimensions $[d,k]$\n",
    "\n",
    "> $d$ is the dimensionality of the data (4 in this case)\n",
    "\n",
    "> $k$ is the amount of classes (3 in this case)"
   ]
  },
  {
   "cell_type": "code",
   "execution_count": 87,
   "metadata": {},
   "outputs": [],
   "source": [
    "# seed random numbers to make calculation\n",
    "# deterministic (just a good practice)\n",
    "np.random.seed(1)\n",
    "\n",
    "# initialize weights randomly with mean 0\n",
    "w = 2*np.random.random((4,3)) - 1"
   ]
  },
  {
   "cell_type": "markdown",
   "metadata": {},
   "source": [
    "#### Activation function and the derivative of this function "
   ]
  },
  {
   "cell_type": "code",
   "execution_count": 88,
   "metadata": {},
   "outputs": [],
   "source": [
    "# Sigmoid function\n",
    "def sigmoid(x):\n",
    "        output = 1/(1+np.exp(-x))\n",
    "        return output\n",
    "    \n",
    "# Derivative of the sigmoid function\n",
    "def sigmoid_output_to_derivative(output):\n",
    "        return output*(1-output)"
   ]
  },
  {
   "cell_type": "markdown",
   "metadata": {},
   "source": [
    "#### Forward propagation\n",
    "\n",
    "> The forward step should return the activation of that layer\n"
   ]
  },
  {
   "cell_type": "code",
   "execution_count": 89,
   "metadata": {},
   "outputs": [],
   "source": [
    "# forward propagation. (Do not modify the parameters' names)\n",
    "def forward(input_layer=None,weights=None):\n",
    "    p = np.dot(input_layer,weights) # Dimensions X=[6x4], w=[4x3], so p=[6x4].[4x3]= 6x3\n",
    "    a = sigmoid(p) # Dimensions a=[6x3]\n",
    "    return a\n",
    "    # <Fill-in>"
   ]
  },
  {
   "cell_type": "markdown",
   "metadata": {},
   "source": [
    "#### Backpropagation\n",
    "\n",
    "> As in the example, the backpropagation function should return the gradient of the loss function with respect to the weights ($ \\frac{\\partial L}{\\partial W}$).\n",
    "\n",
    "> However, this function should also return the gradient of the loss function with respect to the input of the layer ($ \\frac{\\partial L}{\\partial X}$). This is required for a multi-layer neural network\n",
    "\n",
    "> In order to find out how to do this you will have to make the derivation yourself. \n",
    "\n",
    "> Tip: draw the block diagram of 1 variable passing through the a simple network and calculate the gradient at every step as seen in the theory lesson for $ \\frac{\\partial L}{\\partial W}$\n",
    "\n",
    ">Make sure to do a dimensionality check of the matrices. For example $ \\frac{\\partial L}{\\partial W}$ has the same dimensionality as $ W$"
   ]
  },
  {
   "cell_type": "code",
   "execution_count": 90,
   "metadata": {},
   "outputs": [],
   "source": [
    "#backpropagation\n",
    "def backwards(input_layer=None,weights=None, a=None, dlda=None):\n",
    "    dadp = sigmoid_output_to_derivative(a) # Dimensions = [6x3]\n",
    "    dpdw = input_layer.T # Dimensions = [4x6]\n",
    "    #should return dldw and dldx\n",
    "    #dldw = gradient of the loss with respect to the weights\n",
    "    #dldx = gradient of the loss with respect to the input of the layer\n",
    "    dldw = np.dot(dpdw,dlda*dadp) # Dimensions = [4x3] = [4x6].([6x3]*[6x3])\n",
    "    dpdx = weights.T\n",
    "    dldx = np.dot(dlda*dadp, dpdx) # Dimensions = [4x3] = [4x6].([6x3]*[6x3])\n",
    "    return dldw,dldx"
   ]
  },
  {
   "cell_type": "markdown",
   "metadata": {},
   "source": [
    "#### Loss function"
   ]
  },
  {
   "cell_type": "code",
   "execution_count": 91,
   "metadata": {},
   "outputs": [],
   "source": [
    "# The loss function\n",
    "def squared_loss(predicted=None,target=None):\n",
    "    loss = 0.5*np.sum((predicted-target)**2) \n",
    "    loss /= n_samples\n",
    "    return loss\n",
    "\n",
    "#dlda\n",
    "#this function calculates the gradient of the loss function with respect to its input (the activation of the last layer)\n",
    "def squared_loss_derrivative(predicted=None,target=None):\n",
    "        dlda = predicted-target # Dimensions = [6x3]\n",
    "        return dlda"
   ]
  },
  {
   "cell_type": "markdown",
   "metadata": {},
   "source": [
    "#### Main function\n",
    "\n",
    "> In this function the neural network is actually trained. For every epoch, forward propagation is done, the loss is calculated, backpropagation is done and the weights are updated using gradient descent\n",
    "\n",
    "> In the main function the gradient check is also executed. \n",
    "> The difference between the analytical gradient and numerical gradient should be smaller than 1.0 e^-8"
   ]
  },
  {
   "cell_type": "code",
   "execution_count": 92,
   "metadata": {},
   "outputs": [
    {
     "name": "stdout",
     "output_type": "stream",
     "text": [
      "Good gradient, difference is: 2.441662664676149e-09\n",
      "Good gradient, difference is: 6.313606532687318e-10\n",
      "Good gradient, difference is: 2.2309005559501323e-10\n",
      "Good gradient, difference is: 2.6855863152267086e-10\n",
      "Good gradient, difference is: 4.214612606024526e-10\n",
      "Good gradient, difference is: 5.218831076354277e-10\n"
     ]
    }
   ],
   "source": [
    "# A list to store the loss per epoch in. We can plot this later on to see if the network learns something\n",
    "loss_list=[]\n",
    "\n",
    "# How many times we will do the combination of forward and backward propagation\n",
    "n_epoch = 60000\n",
    "\n",
    "#learning rate\n",
    "learning_rate = 0.01\n",
    "\n",
    "for iter in xrange(n_epoch):\n",
    "    #Use your forward function and your backwards function to train the neural network. \n",
    "    #Don't forget to add the calculated loss value to the loss_list \n",
    "    #Make sure your backwards function returns the gradient of the loss function with respect tot the weights (dldw) \n",
    "    #and also the gradient of the loss with respect to the layer's input (dldx)\n",
    "    a = forward(input_layer=X,weights=w)\n",
    "    \n",
    "    loss_list.append(squared_loss(predicted=a,target=y))\n",
    "    \n",
    "    dldw,dldx = backwards(input_layer= X,weights=w, a=a, dlda = squared_loss_derrivative(predicted=a,target=y))\n",
    "    dldw /= n_samples\n",
    "    \n",
    "    # Gradient check.\n",
    "    if iter % 10000 == 0.:\n",
    "        f = lambda x: squared_loss(target=y,predicted=forward(input_layer=X,weights=w))\n",
    "        gradient_checker.gradient_check(X,y,dldx,f)\n",
    "        \n",
    "    #Make sure you update the weight matrix (w) using the gradient descent update rule\n",
    "    w += -learning_rate*dldw\n"
   ]
  },
  {
   "cell_type": "code",
   "execution_count": 93,
   "metadata": {},
   "outputs": [
    {
     "name": "stdout",
     "output_type": "stream",
     "text": [
      "Output After Training:\n",
      "\n",
      "The output of the network\n",
      "\n",
      "[[0.8496089  0.10712236 0.11145403]\n",
      " [0.86858536 0.08359085 0.08576569]\n",
      " [0.07950405 0.93039245 0.02299345]\n",
      " [0.09177659 0.91041254 0.01729694]\n",
      " [0.07955393 0.02904082 0.93006661]\n",
      " [0.0918334  0.02223432 0.90864648]]\n",
      "\n",
      "The ground truth:\n",
      "\n",
      "[[1. 0. 0.]\n",
      " [1. 0. 0.]\n",
      " [0. 1. 0.]\n",
      " [0. 1. 0.]\n",
      " [0. 0. 1.]\n",
      " [0. 0. 1.]]\n",
      "\n",
      "\n",
      "Apply argmax on the output to get the index per row where the value is maximum\n",
      "\n",
      "Prediction network\n",
      "\n",
      "[0 0 1 1 2 2]\n",
      "\n",
      "Ground truth\n",
      "\n",
      "[0 0 1 1 2 2]\n"
     ]
    }
   ],
   "source": [
    "print \"Output After Training:\"\n",
    "print\n",
    "print \"The output of the network\"\n",
    "print\n",
    "#Write down the variable you defined as the output of your network\n",
    "print a\n",
    "print\n",
    "print \"The ground truth:\"\n",
    "print\n",
    "print y\n",
    "print\n",
    "print\n",
    "print \"Apply argmax on the output to get the index per row where the value is maximum\"\n",
    "print\n",
    "print \"Prediction network\"\n",
    "print\n",
    "#Fill in this variable here too\n",
    "print np.argmax(a,axis=1)\n",
    "print\n",
    "print \"Ground truth\"\n",
    "print\n",
    "print np.argmax(y,axis=1)"
   ]
  },
  {
   "cell_type": "markdown",
   "metadata": {},
   "source": [
    "#### Plot the loss"
   ]
  },
  {
   "cell_type": "code",
   "execution_count": 94,
   "metadata": {},
   "outputs": [
    {
     "data": {
      "image/png": "[encoded data removed]",
      "text/plain": [
       "<Figure size 432x288 with 1 Axes>"
      ]
     },
     "metadata": {},
     "output_type": "display_data"
    }
   ],
   "source": [
    "plt.plot(loss_list)\n",
    "plt.show()"
   ]
  },
  {
   "cell_type": "code",
   "execution_count": null,
   "metadata": {},
   "outputs": [],
   "source": []
  }
 ],
 "metadata": {
  "kernelspec": {
   "display_name": "Python 2",
   "language": "python",
   "name": "python2"
  },
  "language_info": {
   "codemirror_mode": {
    "name": "ipython",
    "version": 2
   },
   "file_extension": ".py",
   "mimetype": "text/x-python",
   "name": "python",
   "nbconvert_exporter": "python",
   "pygments_lexer": "ipython2",
   "version": "2.7.15"
  },
  "name": "Lab1.ipynb"
 },
 "nbformat": 4,
 "nbformat_minor": 1
}
