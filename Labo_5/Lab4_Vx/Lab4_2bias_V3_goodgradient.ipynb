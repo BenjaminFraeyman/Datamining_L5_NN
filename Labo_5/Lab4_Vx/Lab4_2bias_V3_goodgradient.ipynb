{
 "cells": [
  {
   "cell_type": "markdown",
   "metadata": {},
   "source": [
    "# Lab: Neural networks\n",
    "\n",
    "## Exercise 4\n",
    "\n",
    "> In this final exercise you will have to create a neural network to classify hand written numbers. Such a neural network is for example used in the post sorting process.\n",
    "\n",
    "> The dataset consists of images of hand written numbers ranging from 0 till 9.\n",
    "\n",
    "> Your goal is to train a neural network on the training set (*X_train*) and predict on the test_set (*X_test*)\n",
    "\n",
    "> Try to get an accuracy as high as possible. Decide yourself what to modify. You can modify for example: the learning_rate, amount of layers, neurons per layer, preprocessing methods, gradient descent to stochastic gradient descent/ batch gradient descent...\n",
    "\n",
    "> Feel free to change other aspects too if you want (e.g. activation function, but then you have to change to backprop algorithm).\n",
    "\n",
    "#### A few hints:\n",
    "\n",
    "> Calculate the accuracy on both the training set (X_train) and testing set (X_test) to see if there is a large difference\n",
    "\n",
    "> You can also do this every 5,10,... epochs (monitor the accuracy)\n",
    "\n",
    "> Calculate the loss on the training set, but also the test set (monitor the loss)\n",
    "\n",
    "> Plot these\n"
   ]
  },
  {
   "cell_type": "markdown",
   "metadata": {},
   "source": [
    "Name: Benjamin Fraeyman"
   ]
  },
  {
   "cell_type": "markdown",
   "metadata": {},
   "source": [
    "#### Imports"
   ]
  },
  {
   "cell_type": "code",
   "execution_count": 1,
   "metadata": {},
   "outputs": [],
   "source": [
    "import numpy as np\n",
    "import matplotlib.pylab as plt\n",
    "from NN_Helper import Gradient_Checker\n",
    "gradient_checker = Gradient_Checker(limit=1.0*np.exp(-8))\n",
    "from sklearn.metrics import accuracy_score\n",
    "from sklearn.utils import shuffle\n",
    "from sklearn.preprocessing import OneHotEncoder,StandardScaler\n",
    "from sklearn.datasets import load_digits\n",
    "import random"
   ]
  },
  {
   "cell_type": "markdown",
   "metadata": {},
   "source": [
    "#### Create toy dataset\n"
   ]
  },
  {
   "cell_type": "code",
   "execution_count": 2,
   "metadata": {},
   "outputs": [
    {
     "name": "stdout",
     "output_type": "stream",
     "text": [
      "X.shape: (1797L, 64L)\n",
      "y.shape: (1797L, 10L)\n",
      "X_train.shape: (1700L, 64L)\n",
      "X_test.shape: (97L, 64L)\n",
      "y_train.shape: (1700L, 10L)\n",
      "y_test.shape: (97L, 10L)\n"
     ]
    },
    {
     "data": {
      "image/png": "[encoded data removed]",
      "text/plain": [
       "<Figure size 432x288 with 9 Axes>"
      ]
     },
     "metadata": {},
     "output_type": "display_data"
    }
   ],
   "source": [
    "# Set containing samples with features\n",
    "data = load_digits(10)\n",
    "X = data['data']\n",
    "print \"X.shape:\", X.shape\n",
    "y = data['target']\n",
    "\n",
    "encoder = OneHotEncoder()\n",
    "y = encoder.fit_transform(np.reshape(y,(len(y),1))).toarray()\n",
    "print \"y.shape:\", y.shape\n",
    "\n",
    "X, y = shuffle(X, y, random_state=0)\n",
    "\n",
    "X_train = X[:1700]\n",
    "print \"X_train.shape:\", X_train.shape\n",
    "X_test = X[1700:]\n",
    "print \"X_test.shape:\", X_test.shape\n",
    "y_train = y[:1700]\n",
    "print \"y_train.shape:\", y_train.shape\n",
    "y_test = y[1700:]\n",
    "print \"y_test.shape:\", y_test.shape\n",
    "\n",
    "for i in range(1,10):\n",
    "    plt.subplot(3,3,i)\n",
    "    plt.imshow(np.reshape(X[i*100],(8,8)),cmap=plt.cm.gray,interpolation='None')\n",
    "plt.show()"
   ]
  },
  {
   "cell_type": "markdown",
   "metadata": {},
   "source": [
    "**Re-use the code of exercise 3 (backwards, forwards, loss,...)** (you may use more cells if you want)"
   ]
  },
  {
   "cell_type": "markdown",
   "metadata": {},
   "source": [
    "-- reused code here --"
   ]
  },
  {
   "cell_type": "markdown",
   "metadata": {},
   "source": [
    "#### Initialize weight matrix"
   ]
  },
  {
   "cell_type": "code",
   "execution_count": 3,
   "metadata": {},
   "outputs": [
    {
     "name": "stdout",
     "output_type": "stream",
     "text": [
      "n_samples: 1700.0\n",
      "n_neurons: 10\n",
      "w1.shape: (64L, 10L)\n",
      "w2.shape: (10L, 10L)\n",
      "b1.shape: (1L, 10L)\n",
      "b2.shape: (1L, 10L)\n"
     ]
    }
   ],
   "source": [
    "n_samples = float(len(X_train))\n",
    "print \"n_samples:\", n_samples\n",
    "n_neurons = 10\n",
    "print \"n_neurons:\", n_neurons\n",
    "np.random.seed(1)\n",
    "\n",
    "# initialize weights randomly with mean 0\n",
    "w1 = 2*np.random.random((X_train.shape[1],n_neurons)) - 1\n",
    "print \"w1.shape:\", w1.shape\n",
    "w2 = 2*np.random.random((n_neurons,y_train.shape[1])) - 1\n",
    "print \"w2.shape:\", w2.shape\n",
    "\n",
    "# initialize the bias for every layer\n",
    "b1 = np.zeros((1,n_neurons))\n",
    "print \"b1.shape:\", b1.shape\n",
    "b2 = np.zeros((1,y_train.shape[1]))\n",
    "print \"b2.shape:\", b2.shape"
   ]
  },
  {
   "cell_type": "markdown",
   "metadata": {},
   "source": [
    "#### Activiation function and the derivative of this function "
   ]
  },
  {
   "cell_type": "code",
   "execution_count": 4,
   "metadata": {},
   "outputs": [],
   "source": [
    "# Sigmoid function\n",
    "def sigmoid(x):\n",
    "        output = 1/(1+np.exp(-x))\n",
    "        return output\n",
    "    \n",
    "# Derivative of the sigmoid function\n",
    "def sigmoid_output_to_derivative(output):\n",
    "        return output*(1-output)"
   ]
  },
  {
   "cell_type": "markdown",
   "metadata": {},
   "source": [
    "#### Forward propagation"
   ]
  },
  {
   "cell_type": "code",
   "execution_count": 5,
   "metadata": {},
   "outputs": [],
   "source": [
    "#re-use the forward propagation function you wrote in the previous exercise\n",
    "#update it to use a bias\n",
    "def forward(input_layer=None,weights=None,bias=None):\n",
    "    p = np.dot(input_layer,weights) +bias\n",
    "    a = sigmoid(p)\n",
    "    return a\n",
    "\n",
    "# https://stackoverflow.com/questions/2480650/role-of-bias-in-neural-networks"
   ]
  },
  {
   "cell_type": "markdown",
   "metadata": {},
   "source": [
    "#### Backpropagation"
   ]
  },
  {
   "cell_type": "code",
   "execution_count": 6,
   "metadata": {},
   "outputs": [],
   "source": [
    "#https://mattmazur.com/2015/03/17/a-step-by-step-backpropagation-example/\n",
    "def backwards(input_layer=None,weights=None, a=None, dlda=None):\n",
    "    dadp = sigmoid_output_to_derivative(a)\n",
    "    \n",
    "    dpdw = input_layer.T\n",
    "    dldw = np.dot(dpdw,dlda*dadp)\n",
    "    \n",
    "    # (a+w) afgeleid naar w => 1\n",
    "    dldp = dlda*dadp\n",
    "    ones = np.ones((1, int(n_samples)))\n",
    "    dldb = np.dot(ones,dldp)\n",
    "    \n",
    "    dpdx = weights.T\n",
    "    dldx = np.dot(dlda*dadp, dpdx)\n",
    "    \n",
    "    dldw /= n_samples\n",
    "    dldb /= n_samples\n",
    "    return dldw,dldb,dldx"
   ]
  },
  {
   "cell_type": "markdown",
   "metadata": {},
   "source": [
    "#### Loss function"
   ]
  },
  {
   "cell_type": "code",
   "execution_count": 7,
   "metadata": {},
   "outputs": [],
   "source": [
    "def squared_loss(predicted=None,target=None):\n",
    "    loss = 0.5*np.sum((predicted-target)**2)\n",
    "    loss /= n_samples\n",
    "    return loss"
   ]
  },
  {
   "cell_type": "markdown",
   "metadata": {},
   "source": [
    "**Derivative of the loss function**"
   ]
  },
  {
   "cell_type": "code",
   "execution_count": 8,
   "metadata": {},
   "outputs": [],
   "source": [
    "def squared_loss_derrivative(predicted=None,target=None):\n",
    "        dlda = predicted-target\n",
    "        return dlda"
   ]
  },
  {
   "cell_type": "markdown",
   "metadata": {},
   "source": [
    "-- end of reused code --"
   ]
  },
  {
   "cell_type": "markdown",
   "metadata": {},
   "source": [
    "#### Main function\n"
   ]
  },
  {
   "cell_type": "code",
   "execution_count": 9,
   "metadata": {},
   "outputs": [
    {
     "name": "stdout",
     "output_type": "stream",
     "text": [
      "iter: 4999\n",
      "Good gradient, difference is: 0.00029180868811055975\n"
     ]
    }
   ],
   "source": [
    "#<Fill-in>-----------\n",
    "# A list to store the loss per epoch in. We can plot this later on to see if the network learns something\n",
    "loss_list=[]\n",
    "# How many times we will do the combination of forward and backward propagation\n",
    "n_epoch = 5000\n",
    "#learning rate\n",
    "learning_rate = 10\n",
    "# --------------------\n",
    "\n",
    "for iter in xrange(n_epoch):\n",
    "    #print \"iter:\", iter\n",
    "    a1 = forward(input_layer=X_train,weights=w1,bias=b1)\n",
    "    a2 = forward(input_layer=a1,weights=w2,bias=b2)\n",
    "    loss = squared_loss(predicted=a2,target=y_train)\n",
    "    loss_list.append(loss)\n",
    "    dldw2, dldb2, dldx2 = backwards(input_layer= a1,weights=w2, a=a2, dlda = squared_loss_derrivative(predicted=a2,target=y_train))\n",
    "    dldw, dldb, dldx = backwards(input_layer= X_train,weights=w1, a=a1, dlda = dldx2/n_samples)\n",
    "#     if iter != 0.:\n",
    "#         if iter % 10000 == 0.:\n",
    "#             print \"iter:\", iter\n",
    "#             f = lambda x: squared_loss(target=y_train,predicted=forward(input_layer=forward(input_layer=X_train,weights=w1,bias=b1),weights=w2,bias=b2))\n",
    "#             gradient_checker.gradient_check(X_train,y_train,dldx,f)\n",
    "    if iter == 4999:\n",
    "        print \"iter:\", iter\n",
    "        f = lambda x: squared_loss(target=y_train,predicted=forward(input_layer=forward(input_layer=X_train,weights=w1,bias=b1),weights=w2,bias=b2))\n",
    "        gradient_checker.gradient_check(X_train,y_train,dldx,f)\n",
    "    w1 += -learning_rate*dldw\n",
    "    w2 += -learning_rate*dldw2\n",
    "    b1 += -learning_rate*dldb\n",
    "    b2 += -learning_rate*dldb2"
   ]
  },
  {
   "cell_type": "code",
   "execution_count": 10,
   "metadata": {},
   "outputs": [
    {
     "data": {
      "text/plain": [
       "0.7441176470588236"
      ]
     },
     "execution_count": 10,
     "metadata": {},
     "output_type": "execute_result"
    }
   ],
   "source": [
    "#Calculate the accuracy for X_train using the \"accuracy_score\" function from scikit-learn which is already imported \n",
    "# (http://scikit-learn.org/stable/modules/generated/sklearn.metrics.accuracy_score.html)\n",
    "accuracy_score(np.argmax(y_train,axis=1), np.argmax(a2,axis=1))\n",
    "# #Calculate the accuracy for X_test using \"the accuracy_score\"\n",
    "# <Fill-in>"
   ]
  },
  {
   "cell_type": "code",
   "execution_count": 11,
   "metadata": {},
   "outputs": [
    {
     "name": "stdout",
     "output_type": "stream",
     "text": [
      "Output After Training:\n",
      "\n",
      "The output of the network\n",
      "\n",
      "[[2.90467647e-06 1.35218313e-01 4.95686732e-01 ... 4.74669961e-06\n",
      "  3.59974280e-02 3.60354900e-03]\n",
      " [2.56258762e-05 3.45165549e-02 7.18024062e-01 ... 1.65268130e-06\n",
      "  1.34240658e-01 4.44485473e-02]\n",
      " [2.53466444e-07 8.33012144e-02 5.41163723e-01 ... 2.08225399e-05\n",
      "  3.22165686e-02 3.96464930e-03]\n",
      " ...\n",
      " [1.52466070e-08 2.69853189e-01 2.40580769e-01 ... 3.61108564e-04\n",
      "  4.85040859e-02 6.18673122e-03]\n",
      " [1.33445727e-05 4.78520749e-03 5.73325339e-04 ... 5.10240540e-03\n",
      "  9.92894429e-02 9.31203646e-01]\n",
      " [4.29386864e-08 3.03372314e-03 8.29868878e-03 ... 3.34543987e-07\n",
      "  4.69773860e-04 5.50738231e-05]]\n",
      "\n",
      "The ground truth:\n",
      "\n",
      "[[0. 0. 1. ... 0. 0. 0.]\n",
      " [0. 0. 0. ... 0. 1. 0.]\n",
      " [0. 0. 1. ... 0. 0. 0.]\n",
      " ...\n",
      " [0. 1. 0. ... 0. 0. 0.]\n",
      " [0. 0. 0. ... 0. 0. 1.]\n",
      " [0. 1. 0. ... 0. 0. 0.]]\n",
      "\n",
      "\n",
      "Apply argmax on the output to get the index per row where the value is maximum\n",
      "\n",
      "Prediction network\n",
      "\n",
      "[2 2 2 ... 1 9 5]\n",
      "\n",
      "Ground truth\n",
      "\n",
      "[2 8 2 ... 1 9 1]\n"
     ]
    }
   ],
   "source": [
    "print \"Output After Training:\"\n",
    "print\n",
    "print \"The output of the network\"\n",
    "print\n",
    "print a2\n",
    "print\n",
    "print \"The ground truth:\"\n",
    "print\n",
    "print y_train\n",
    "print\n",
    "print\n",
    "print \"Apply argmax on the output to get the index per row where the value is maximum\"\n",
    "print\n",
    "print \"Prediction network\"\n",
    "print\n",
    "print np.argmax(a2,axis=1)\n",
    "print\n",
    "print \"Ground truth\"\n",
    "print\n",
    "print np.argmax(y_train,axis=1)"
   ]
  },
  {
   "cell_type": "code",
   "execution_count": 12,
   "metadata": {},
   "outputs": [
    {
     "data": {
      "image/png": "[encoded data removed]",
      "text/plain": [
       "<Figure size 432x288 with 1 Axes>"
      ]
     },
     "metadata": {},
     "output_type": "display_data"
    }
   ],
   "source": [
    "plt.plot(loss_list)\n",
    "plt.show()"
   ]
  },
  {
   "cell_type": "markdown",
   "metadata": {
    "collapsed": true
   },
   "source": [
    "**Question: What is the accuracy you achieved on X_test?**"
   ]
  },
  {
   "cell_type": "markdown",
   "metadata": {},
   "source": [
    "<Fill - in>"
   ]
  },
  {
   "cell_type": "markdown",
   "metadata": {},
   "source": [
    "**What modifications did you do to receive this score?**"
   ]
  },
  {
   "cell_type": "code",
   "execution_count": null,
   "metadata": {},
   "outputs": [],
   "source": []
  }
 ],
 "metadata": {
  "kernelspec": {
   "display_name": "Python 2",
   "language": "python",
   "name": "python2"
  },
  "language_info": {
   "codemirror_mode": {
    "name": "ipython",
    "version": 2
   },
   "file_extension": ".py",
   "mimetype": "text/x-python",
   "name": "python",
   "nbconvert_exporter": "python",
   "pygments_lexer": "ipython2",
   "version": "2.7.15"
  },
  "name": "Lab4.ipynb"
 },
 "nbformat": 4,
 "nbformat_minor": 1
}
