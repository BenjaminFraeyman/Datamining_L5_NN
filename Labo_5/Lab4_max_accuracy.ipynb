{
 "cells": [
  {
   "cell_type": "markdown",
   "metadata": {},
   "source": [
    "# Lab: Neural networks\n",
    "\n",
    "## Exercise 4\n",
    "\n",
    "> In this final exercise you will have to create a neural network to classify hand written numbers. Such a neural network is for example used in the post sorting process.\n",
    "\n",
    "> The dataset consists of images of hand written numbers ranging from 0 till 9.\n",
    "\n",
    "> Your goal is to train a neural network on the training set (*X_train*) and predict on the test_set (*X_test*)\n",
    "\n",
    "> Try to get an accuracy as high as possible. Decide yourself what to modify. You can modify for example: the learning_rate, amount of layers, neurons per layer, preprocessing methods, gradient descent to stochastic gradient descent/ batch gradient descent...\n",
    "\n",
    "> Feel free to change other aspects too if you want (e.g. activation function, but then you have to change to backprop algorithm).\n",
    "\n",
    "#### A few hints:\n",
    "\n",
    "> Calculate the accuracy on both the training set (X_train) and testing set (X_test) to see if there is a large difference\n",
    "\n",
    "> You can also do this every 5,10,... epochs (monitor the accuracy)\n",
    "\n",
    "> Calculate the loss on the training set, but also the test set (monitor the loss)\n",
    "\n",
    "> Plot these\n"
   ]
  },
  {
   "cell_type": "markdown",
   "metadata": {},
   "source": [
    "Name: Benjamin Fraeyman"
   ]
  },
  {
   "cell_type": "markdown",
   "metadata": {},
   "source": [
    "#### Imports"
   ]
  },
  {
   "cell_type": "code",
   "execution_count": 1,
   "metadata": {},
   "outputs": [],
   "source": [
    "import numpy as np\n",
    "import matplotlib.pylab as plt\n",
    "from NN_Helper import Gradient_Checker\n",
    "gradient_checker = Gradient_Checker(limit=1.0*np.exp(-8))\n",
    "from sklearn.metrics import accuracy_score\n",
    "from sklearn.utils import shuffle\n",
    "from sklearn.preprocessing import OneHotEncoder,StandardScaler\n",
    "from sklearn.datasets import load_digits\n",
    "import random"
   ]
  },
  {
   "cell_type": "markdown",
   "metadata": {},
   "source": [
    "#### Create toy dataset\n"
   ]
  },
  {
   "cell_type": "code",
   "execution_count": 2,
   "metadata": {},
   "outputs": [
    {
     "name": "stdout",
     "output_type": "stream",
     "text": [
      "X.shape: (1797L, 64L)\n",
      "y.shape: (1797L, 10L)\n",
      "X_train.shape: (1700L, 64L)\n",
      "X_test.shape: (97L, 64L)\n",
      "y_train.shape: (1700L, 10L)\n",
      "y_test.shape: (97L, 10L)\n"
     ]
    },
    {
     "data": {
      "image/png": "[encoded data removed]",
      "text/plain": [
       "<Figure size 432x288 with 9 Axes>"
      ]
     },
     "metadata": {},
     "output_type": "display_data"
    }
   ],
   "source": [
    "# Set containing samples with features\n",
    "data = load_digits(10)\n",
    "X = data['data']\n",
    "print \"X.shape:\", X.shape\n",
    "y = data['target']\n",
    "\n",
    "encoder = OneHotEncoder()\n",
    "y = encoder.fit_transform(np.reshape(y,(len(y),1))).toarray()\n",
    "print \"y.shape:\", y.shape\n",
    "\n",
    "X, y = shuffle(X, y, random_state=0)\n",
    "\n",
    "X_train = X[:1700]\n",
    "print \"X_train.shape:\", X_train.shape\n",
    "X_test = X[1700:]\n",
    "print \"X_test.shape:\", X_test.shape\n",
    "y_train = y[:1700]\n",
    "print \"y_train.shape:\", y_train.shape\n",
    "y_test = y[1700:]\n",
    "print \"y_test.shape:\", y_test.shape\n",
    "\n",
    "for i in range(1,10):\n",
    "    plt.subplot(3,3,i)\n",
    "    plt.imshow(np.reshape(X[i*100],(8,8)),cmap=plt.cm.gray,interpolation='None')\n",
    "plt.show()"
   ]
  },
  {
   "cell_type": "markdown",
   "metadata": {},
   "source": [
    "**Re-use the code of exercise 3 (backwards, forwards, loss,...)** (you may use more cells if you want)"
   ]
  },
  {
   "cell_type": "markdown",
   "metadata": {},
   "source": [
    "-- reused code here --"
   ]
  },
  {
   "cell_type": "markdown",
   "metadata": {},
   "source": [
    "#### Initialize weight matrix"
   ]
  },
  {
   "cell_type": "code",
   "execution_count": 3,
   "metadata": {},
   "outputs": [
    {
     "name": "stdout",
     "output_type": "stream",
     "text": [
      "n_samples: 1700.0\n",
      "n_neurons: 25\n",
      "w1.shape: (64L, 25L)\n",
      "w2.shape: (25L, 10L)\n",
      "b1.shape: (1L, 25L)\n",
      "b2.shape: (1L, 10L)\n"
     ]
    }
   ],
   "source": [
    "n_samples = float(len(X_train))\n",
    "print \"n_samples:\", n_samples\n",
    "n_neurons = 25\n",
    "print \"n_neurons:\", n_neurons\n",
    "np.random.seed(1)\n",
    "\n",
    "# initialize weights randomly with mean 0\n",
    "w1 = 2*np.random.random((X_train.shape[1],n_neurons)) - 1\n",
    "print \"w1.shape:\", w1.shape\n",
    "w2 = 2*np.random.random((n_neurons,y_train.shape[1])) - 1\n",
    "print \"w2.shape:\", w2.shape\n",
    "\n",
    "# initialize the bias for every layer\n",
    "b1 = np.zeros((1,n_neurons))\n",
    "print \"b1.shape:\", b1.shape\n",
    "b2 = np.zeros((1,y_train.shape[1]))\n",
    "print \"b2.shape:\", b2.shape"
   ]
  },
  {
   "cell_type": "markdown",
   "metadata": {},
   "source": [
    "#### Activiation function and the derivative of this function "
   ]
  },
  {
   "cell_type": "code",
   "execution_count": 4,
   "metadata": {},
   "outputs": [],
   "source": [
    "# Sigmoid function\n",
    "def sigmoid(x):\n",
    "        output = 1/(1+np.exp(-x))\n",
    "        return output\n",
    "    \n",
    "# Derivative of the sigmoid function\n",
    "def sigmoid_output_to_derivative(output):\n",
    "        return output*(1-output)"
   ]
  },
  {
   "cell_type": "markdown",
   "metadata": {},
   "source": [
    "#### Forward propagation"
   ]
  },
  {
   "cell_type": "code",
   "execution_count": 5,
   "metadata": {},
   "outputs": [],
   "source": [
    "#re-use the forward propagation function you wrote in the previous exercise\n",
    "#update it to use a bias\n",
    "def forward(input_layer=None,weights=None,bias=None):\n",
    "    p = np.dot(input_layer,weights) +bias\n",
    "    a = sigmoid(p)\n",
    "    return a\n",
    "\n",
    "# https://stackoverflow.com/questions/2480650/role-of-bias-in-neural-networks"
   ]
  },
  {
   "cell_type": "markdown",
   "metadata": {},
   "source": [
    "#### Backpropagation"
   ]
  },
  {
   "cell_type": "code",
   "execution_count": 6,
   "metadata": {},
   "outputs": [],
   "source": [
    "#https://mattmazur.com/2015/03/17/a-step-by-step-backpropagation-example/\n",
    "def backwards(input_layer=None,weights=None, a=None, dlda=None):\n",
    "    dadp = sigmoid_output_to_derivative(a)\n",
    "    \n",
    "    dpdw = input_layer.T\n",
    "    dldw = np.dot(dpdw,dlda*dadp)\n",
    "    \n",
    "    # (a+w) afgeleid naar w => 1\n",
    "    dldp = dlda*dadp\n",
    "    ones = np.ones((1, int(n_samples)))\n",
    "    dldb = np.dot(ones,dldp)\n",
    "    \n",
    "    dpdx = weights.T\n",
    "    dldx = np.dot(dlda*dadp, dpdx)\n",
    "    \n",
    "    dldw /= n_samples\n",
    "    dldb /= n_samples\n",
    "    return dldw,dldb,dldx"
   ]
  },
  {
   "cell_type": "markdown",
   "metadata": {},
   "source": [
    "#### Loss function"
   ]
  },
  {
   "cell_type": "code",
   "execution_count": 7,
   "metadata": {},
   "outputs": [],
   "source": [
    "def squared_loss(predicted=None,target=None):\n",
    "    loss = 0.5*np.sum((predicted-target)**2)\n",
    "    loss /= n_samples\n",
    "    return loss"
   ]
  },
  {
   "cell_type": "markdown",
   "metadata": {},
   "source": [
    "**Derivative of the loss function**"
   ]
  },
  {
   "cell_type": "code",
   "execution_count": 8,
   "metadata": {},
   "outputs": [],
   "source": [
    "def squared_loss_derrivative(predicted=None,target=None):\n",
    "        dlda = predicted-target\n",
    "        return dlda"
   ]
  },
  {
   "cell_type": "markdown",
   "metadata": {},
   "source": [
    "-- end of reused code --"
   ]
  },
  {
   "cell_type": "markdown",
   "metadata": {},
   "source": [
    "#### Main function\n"
   ]
  },
  {
   "cell_type": "code",
   "execution_count": 9,
   "metadata": {
    "scrolled": false
   },
   "outputs": [
    {
     "name": "stdout",
     "output_type": "stream",
     "text": [
      "X_train accuracy check on iteration 1000 : 0.7576470588235295\n",
      "X_train accuracy check on iteration 2000 : 0.7852941176470588\n",
      "X_train accuracy check on iteration 3000 : 0.7988235294117647\n",
      "X_train accuracy check on iteration 4000 : 0.8147058823529412\n",
      "X_train accuracy check on iteration 5000 : 0.8247058823529412\n",
      "X_train accuracy check on iteration 6000 : 0.8282352941176471\n",
      "X_train accuracy check on iteration 7000 : 0.8341176470588235\n",
      "X_train accuracy check on iteration 8000 : 0.8388235294117647\n",
      "X_train accuracy check on iteration 9000 : 0.8435294117647059\n",
      "X_train accuracy check on iteration 10000 : 0.8458823529411764\n",
      "X_train accuracy check on iteration 11000 : 0.8470588235294118\n",
      "X_train accuracy check on iteration 12000 : 0.8482352941176471\n",
      "X_train accuracy check on iteration 13000 : 0.8505882352941176\n",
      "X_train accuracy check on iteration 14000 : 0.8523529411764705\n",
      "X_train accuracy check on iteration 15000 : 0.8529411764705882\n",
      "X_train accuracy check on iteration 16000 : 0.9264705882352942\n",
      "X_train accuracy check on iteration 17000 : 0.93\n",
      "X_train accuracy check on iteration 18000 : 0.9305882352941176\n",
      "X_train accuracy check on iteration 19000 : 0.9305882352941176\n",
      "X_train accuracy check on iteration 20000 : 0.93\n",
      "X_train accuracy check on iteration 21000 : 0.9317647058823529\n",
      "X_train accuracy check on iteration 22000 : 0.9335294117647058\n",
      "X_train accuracy check on iteration 23000 : 0.9352941176470588\n",
      "X_train accuracy check on iteration 24000 : 0.9358823529411765\n",
      "X_train accuracy check on iteration 25000 : 0.9376470588235294\n",
      "X_train accuracy check on iteration 26000 : 0.94\n",
      "X_train accuracy check on iteration 27000 : 0.9405882352941176\n",
      "X_train accuracy check on iteration 28000 : 0.9423529411764706\n",
      "X_train accuracy check on iteration 29000 : 0.9447058823529412\n",
      "X_train accuracy check on iteration 30000 : 0.9447058823529412\n",
      "X_train accuracy check on iteration 31000 : 0.9447058823529412\n",
      "X_train accuracy check on iteration 32000 : 0.9464705882352941\n",
      "X_train accuracy check on iteration 33000 : 0.9470588235294117\n",
      "X_train accuracy check on iteration 34000 : 0.9470588235294117\n",
      "X_train accuracy check on iteration 35000 : 0.9464705882352941\n",
      "X_train accuracy check on iteration 36000 : 0.9470588235294117\n",
      "X_train accuracy check on iteration 37000 : 0.9488235294117647\n",
      "X_train accuracy check on iteration 38000 : 0.9494117647058824\n",
      "X_train accuracy check on iteration 39000 : 0.9505882352941176\n",
      "X_train accuracy check on iteration 40000 : 0.9505882352941176\n",
      "X_train accuracy check on iteration 41000 : 0.9511764705882353\n",
      "X_train accuracy check on iteration 42000 : 0.9511764705882353\n",
      "X_train accuracy check on iteration 43000 : 0.951764705882353\n",
      "X_train accuracy check on iteration 44000 : 0.9511764705882353\n",
      "X_train accuracy check on iteration 45000 : 0.9511764705882353\n",
      "X_train accuracy check on iteration 46000 : 0.9523529411764706\n",
      "X_train accuracy check on iteration 47000 : 0.9529411764705882\n",
      "X_train accuracy check on iteration 48000 : 0.9535294117647058\n",
      "X_train accuracy check on iteration 49000 : 0.9541176470588235\n",
      "X_train accuracy check on iteration 50000 : 0.9547058823529412\n",
      "X_train accuracy check on iteration 51000 : 0.9552941176470588\n",
      "X_train accuracy check on iteration 52000 : 0.9558823529411765\n",
      "X_train accuracy check on iteration 53000 : 0.9558823529411765\n",
      "X_train accuracy check on iteration 54000 : 0.9558823529411765\n",
      "X_train accuracy check on iteration 55000 : 0.9558823529411765\n",
      "X_train accuracy check on iteration 56000 : 0.9558823529411765\n",
      "X_train accuracy check on iteration 57000 : 0.9558823529411765\n",
      "X_train accuracy check on iteration 58000 : 0.9552941176470588\n",
      "X_train accuracy check on iteration 59000 : 0.9564705882352941\n",
      "X_train accuracy check on iteration 60000 : 0.9564705882352941\n",
      "X_train accuracy check on iteration 61000 : 0.9564705882352941\n",
      "X_train accuracy check on iteration 62000 : 0.9564705882352941\n",
      "X_train accuracy check on iteration 63000 : 0.9564705882352941\n",
      "X_train accuracy check on iteration 64000 : 0.9570588235294117\n",
      "X_train accuracy check on iteration 65000 : 0.9570588235294117\n",
      "X_train accuracy check on iteration 66000 : 0.9570588235294117\n",
      "X_train accuracy check on iteration 67000 : 0.9570588235294117\n",
      "X_train accuracy check on iteration 68000 : 0.9570588235294117\n",
      "X_train accuracy check on iteration 69000 : 0.9570588235294117\n",
      "X_train accuracy check on iteration 70000 : 0.9570588235294117\n",
      "X_train accuracy check on iteration 71000 : 0.9570588235294117\n",
      "X_train accuracy check on iteration 72000 : 0.9570588235294117\n",
      "X_train accuracy check on iteration 73000 : 0.9576470588235294\n",
      "X_train accuracy check on iteration 74000 : 0.9588235294117647\n",
      "X_train accuracy check on iteration 75000 : 0.9594117647058824\n",
      "X_train accuracy check on iteration 76000 : 0.9594117647058824\n",
      "X_train accuracy check on iteration 77000 : 0.9588235294117647\n",
      "X_train accuracy check on iteration 78000 : 0.9588235294117647\n",
      "X_train accuracy check on iteration 79000 : 0.9588235294117647\n",
      "X_train accuracy check on iteration 80000 : 0.9588235294117647\n",
      "X_train accuracy check on iteration 81000 : 0.9594117647058824\n",
      "X_train accuracy check on iteration 82000 : 0.96\n",
      "X_train accuracy check on iteration 83000 : 0.96\n",
      "X_train accuracy check on iteration 84000 : 0.96\n",
      "X_train accuracy check on iteration 85000 : 0.9594117647058824\n",
      "X_train accuracy check on iteration 86000 : 0.9594117647058824\n",
      "X_train accuracy check on iteration 87000 : 0.9588235294117647\n",
      "X_train accuracy check on iteration 88000 : 0.9594117647058824\n",
      "X_train accuracy check on iteration 89000 : 0.9594117647058824\n",
      "X_train accuracy check on iteration 90000 : 0.9594117647058824\n",
      "X_train accuracy check on iteration 91000 : 0.9594117647058824\n",
      "X_train accuracy check on iteration 92000 : 0.9594117647058824\n",
      "X_train accuracy check on iteration 93000 : 0.9594117647058824\n",
      "X_train accuracy check on iteration 94000 : 0.9594117647058824\n",
      "X_train accuracy check on iteration 95000 : 0.9594117647058824\n",
      "X_train accuracy check on iteration 96000 : 0.9594117647058824\n",
      "X_train accuracy check on iteration 97000 : 0.9594117647058824\n",
      "X_train accuracy check on iteration 98000 : 0.9594117647058824\n",
      "X_train accuracy check on iteration 99000 : 0.9594117647058824\n"
     ]
    }
   ],
   "source": [
    "#<Fill-in>-----------\n",
    "# A list to store the loss per epoch in. We can plot this later on to see if the network learns something\n",
    "loss_list=[]\n",
    "# How many times we will do the combination of forward and backward propagation\n",
    "n_epoch = 100000\n",
    "#learning rate\n",
    "learning_rate = 11\n",
    "# A list to store the accuracy per epoch in. We can plot this later on to see if the network learns something\n",
    "accuracy_train_list=[]\n",
    "# --------------------\n",
    "\n",
    "for iter in xrange(n_epoch):\n",
    "    a1 = forward(input_layer=X_train,weights=w1,bias=b1)\n",
    "    a2 = forward(input_layer=a1,weights=w2,bias=b2)\n",
    "    loss = squared_loss(predicted=a2,target=y_train)\n",
    "    loss_list.append(loss)\n",
    "    dldw2, dldb2, dldx2 = backwards(input_layer= a1,weights=w2, a=a2, dlda = squared_loss_derrivative(predicted=a2,target=y_train))\n",
    "    dldw, dldb, dldx = backwards(input_layer= X_train,weights=w1, a=a1, dlda = dldx2/n_samples)\n",
    "    if iter <= 500 and iter % 10 == 0.:\n",
    "        accuracy_train_list.append([iter,accuracy_score(np.argmax(y_train,axis=1), np.argmax(a2,axis=1))])\n",
    "    if iter >= 1000 and iter % 1000 == 0.:\n",
    "        print \"X_train accuracy check on iteration\", iter,\":\", accuracy_score(np.argmax(y_train,axis=1), np.argmax(a2,axis=1))\n",
    "        accuracy_train_list.append([iter,accuracy_score(np.argmax(y_train,axis=1), np.argmax(a2,axis=1))])\n",
    "#     if (iter != 0. and iter % 10000 == 0.) or iter == n_epoch - 1:\n",
    "#         print \"Gradient check on iteration:\", iter\n",
    "#         f = lambda x: squared_loss(target=y_train,predicted=forward(input_layer=forward(input_layer=X_train,weights=w1,bias=b1),weights=w2,bias=b2))\n",
    "#         gradient_checker.gradient_check(X_train,y_train,dldx,f)\n",
    "    w1 += -learning_rate*dldw\n",
    "    w2 += -learning_rate*dldw2\n",
    "    b1 += -learning_rate*dldb\n",
    "    b2 += -learning_rate*dldb2\n",
    "\n",
    "a3 = forward(input_layer=X_test,weights=w1,bias=b1)\n",
    "a4 = forward(input_layer=a3,weights=w2,bias=b2)"
   ]
  },
  {
   "cell_type": "code",
   "execution_count": 10,
   "metadata": {},
   "outputs": [
    {
     "name": "stdout",
     "output_type": "stream",
     "text": [
      "Accuracy X_train: 0.9594117647058824\n",
      "Accuracy X_test: 0.9484536082474226\n"
     ]
    }
   ],
   "source": [
    "#Calculate the accuracy for X_train using the \"accuracy_score\" function from scikit-learn which is already imported \n",
    "# (http://scikit-learn.org/stable/modules/generated/sklearn.metrics.accuracy_score.html)\n",
    "print \"Accuracy X_train:\", accuracy_score(np.argmax(y_train,axis=1), np.argmax(a2,axis=1))\n",
    "# #Calculate the accuracy for X_test using \"the accuracy_score\"\n",
    "print \"Accuracy X_test:\", accuracy_score(np.argmax(y_test,axis=1), np.argmax(a4,axis=1))"
   ]
  },
  {
   "cell_type": "code",
   "execution_count": 11,
   "metadata": {
    "scrolled": false
   },
   "outputs": [
    {
     "name": "stdout",
     "output_type": "stream",
     "text": [
      "Prediction network: [2 8 2 ... 1 9 1]\n",
      "Ground truth: [2 8 2 ... 1 9 1]\n"
     ]
    },
    {
     "data": {
      "image/png": "[encoded data removed]",
      "text/plain": [
       "<Figure size 432x288 with 1 Axes>"
      ]
     },
     "metadata": {},
     "output_type": "display_data"
    }
   ],
   "source": [
    "print \"Prediction network:\", np.argmax(a2,axis=1)\n",
    "print \"Ground truth:\", np.argmax(y_train,axis=1)\n",
    "plt.plot(loss_list)\n",
    "plt.show()"
   ]
  },
  {
   "cell_type": "code",
   "execution_count": 12,
   "metadata": {},
   "outputs": [
    {
     "name": "stdout",
     "output_type": "stream",
     "text": [
      "Accuracy train:\n"
     ]
    },
    {
     "data": {
      "image/png": "[encoded data removed]",
      "text/plain": [
       "<Figure size 432x288 with 1 Axes>"
      ]
     },
     "metadata": {},
     "output_type": "display_data"
    }
   ],
   "source": [
    "print \"Accuracy train:\"\n",
    "x_val = [x[0] for x in accuracy_train_list]\n",
    "y_val = [x[1] for x in accuracy_train_list]\n",
    "plt.plot(x_val,y_val,'or')\n",
    "plt.show()"
   ]
  },
  {
   "cell_type": "code",
   "execution_count": 13,
   "metadata": {},
   "outputs": [
    {
     "data": {
      "image/png": "[encoded data removed]",
      "text/plain": [
       "<Figure size 432x288 with 1 Axes>"
      ]
     },
     "metadata": {},
     "output_type": "display_data"
    }
   ],
   "source": [
    "plt.plot(x_val,y_val)\n",
    "plt.show()"
   ]
  },
  {
   "cell_type": "code",
   "execution_count": 14,
   "metadata": {},
   "outputs": [
    {
     "data": {
      "image/png": "[encoded data removed]",
      "text/plain": [
       "<Figure size 432x288 with 1 Axes>"
      ]
     },
     "metadata": {},
     "output_type": "display_data"
    }
   ],
   "source": [
    "plt.plot(x_val,y_val)\n",
    "plt.plot(x_val,y_val,'or')\n",
    "plt.show()"
   ]
  },
  {
   "cell_type": "markdown",
   "metadata": {
    "collapsed": true
   },
   "source": [
    "**Question: What is the accuracy you achieved on X_test?**"
   ]
  },
  {
   "cell_type": "markdown",
   "metadata": {},
   "source": [
    "Accuracy X_test: 0.9484536082474226"
   ]
  },
  {
   "cell_type": "markdown",
   "metadata": {},
   "source": [
    "**What modifications did you do to receive this score?**"
   ]
  },
  {
   "cell_type": "markdown",
   "metadata": {},
   "source": [
    "n_epoch = 100000\n",
    "\n",
    "learning_rate = 11\n",
    "\n",
    "neurons = 25"
   ]
  }
 ],
 "metadata": {
  "kernelspec": {
   "display_name": "Python 2",
   "language": "python",
   "name": "python2"
  },
  "language_info": {
   "codemirror_mode": {
    "name": "ipython",
    "version": 2
   },
   "file_extension": ".py",
   "mimetype": "text/x-python",
   "name": "python",
   "nbconvert_exporter": "python",
   "pygments_lexer": "ipython2",
   "version": "2.7.15"
  },
  "name": "Lab4.ipynb"
 },
 "nbformat": 4,
 "nbformat_minor": 1
}
