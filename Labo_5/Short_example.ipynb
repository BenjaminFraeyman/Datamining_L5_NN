{
 "cells": [
  {
   "cell_type": "markdown",
   "metadata": {},
   "source": [
    "# Lab: Neural networks\n",
    "\n",
    "> This lab starts of with an example of a 1 layer neural network for classification purposes.\n",
    "\n",
    "> As a first exercise you will have to structure the neural network code better so it can be reused for a two-layer neural network\n",
    "\n",
    "> A second exercise consists of adding bias parameters to the layers.\n",
    "\n",
    "> A third exercise consists of running the network on new data\n"
   ]
  },
  {
   "cell_type": "markdown",
   "metadata": {},
   "source": [
    "#### Imports"
   ]
  },
  {
   "cell_type": "code",
   "execution_count": 1,
   "metadata": {},
   "outputs": [],
   "source": [
    "import numpy as np\n",
    "import matplotlib.pylab as plt"
   ]
  },
  {
   "cell_type": "markdown",
   "metadata": {},
   "source": [
    "#### Create toy dataset\n",
    "\n",
    "> The dataset (X) has the following dimensions: 6x4. This means 6 samples and 4 dimensions\n",
    "\n",
    "> The labels/ground truth (y) has the following dimensions 6x3. This means there are 6 samples and 3 classes. To encode the classes one-hot-encoding is used."
   ]
  },
  {
   "cell_type": "code",
   "execution_count": 2,
   "metadata": {},
   "outputs": [],
   "source": [
    "# Set containing samples with features\n",
    "X = np.array([  [0.,0.,1.,0.],\n",
    "                [0.,1.,1.,0.],\n",
    "                [1.,0.,1.,0.],\n",
    "                [1.,1.,1.,0.],\n",
    "                [0.,0.,1.,1.],\n",
    "                [0.,1.,1.,1.]])\n",
    "\n",
    "# Ground truth\n",
    "y = np.array([  [1.,0.,0.],\n",
    "                [1.,0.,0.],\n",
    "                [0.,1.,0.],\n",
    "                [0.,1.,0.],\n",
    "                [0.,0.,1.],\n",
    "                [0.,0.,1.]])\n",
    "\n",
    "n_samples = float(len(X))"
   ]
  },
  {
   "cell_type": "markdown",
   "metadata": {},
   "source": [
    "#### Initialize weight matrix\n",
    "\n",
    "> The matrix has the following dimensions $[d,k]$\n",
    "\n",
    "> $d$ is the dimensionality of the data (4 in this case)\n",
    "\n",
    "> $k$ is the amount of classes (3 in this case)"
   ]
  },
  {
   "cell_type": "code",
   "execution_count": 3,
   "metadata": {},
   "outputs": [],
   "source": [
    "# seed random numbers to make calculation\n",
    "# deterministic (just a good practice)\n",
    "np.random.seed(1)\n",
    "\n",
    "# initialize weights randomly with mean 0\n",
    "w = 2*np.random.random((4,3)) - 1"
   ]
  },
  {
   "cell_type": "markdown",
   "metadata": {},
   "source": [
    "#### Activation function and the derivative of this function "
   ]
  },
  {
   "cell_type": "code",
   "execution_count": 4,
   "metadata": {},
   "outputs": [],
   "source": [
    "# Sigmoid function\n",
    "def sigmoid(x):\n",
    "        output = 1/(1+np.exp(-x))\n",
    "        return output\n",
    "    \n",
    "# Derivative of the sigmoid function\n",
    "def sigmoid_output_to_derivative(output):\n",
    "        return output*(1-output)"
   ]
  },
  {
   "cell_type": "markdown",
   "metadata": {},
   "source": [
    "#### Main function"
   ]
  },
  {
   "cell_type": "code",
   "execution_count": 5,
   "metadata": {},
   "outputs": [],
   "source": [
    "# A list to store the loss per epoch in. We can plot this later on to see if the network learns something\n",
    "loss_list=[]\n",
    "\n",
    "# How many times we will do the combination of forward and backward propagation\n",
    "n_epoch = 100000\n",
    "\n",
    "#learning rate\n",
    "learning_rate = 0.01\n",
    "\n",
    "for iter in range(n_epoch):\n",
    "\n",
    "    # Forwardpropagation\n",
    "    p = np.dot(X,w) # Dimensions X=[6x4], w=[4x3], so p=[6x4].[4x3]= 6x3\n",
    "    a = sigmoid(p) # Dimensions a=[6x3]\n",
    "\n",
    "    # Calculate the loss function\n",
    "    loss = 0.5*np.sum((a-y)**2) \n",
    "    \n",
    "    # Normalize loss (as it is calculated on all samples)\n",
    "    loss /= n_samples\n",
    "    \n",
    "    # Add the loss to the list of losses\n",
    "    loss_list.append(loss)\n",
    "    \n",
    "    # Backpropagation\n",
    "    # We need dLdw (the partial derivative of the loss with respect to the weights)\n",
    "    # We saw that using backpropagation (chain rule) that dLdw = dlda*dadp*dpdw\n",
    "    \n",
    "    dlda = a-y # Dimensions = [6x3]\n",
    "    dadp = sigmoid_output_to_derivative(a) # Dimensions = [6x3]\n",
    "    dpdw = X.T # Dimensions = [4x6]\n",
    "    \n",
    "    #dldw should be of the same dimensions as w itself.\n",
    "    #dlda is the partial derivative of the loss with respect to its input. This in fact says by how much we are making a wrong prediction\n",
    "    #dadp is the partial derivative of the activation with respect to the pre-activation. Hence we have to backpropagate dlda (the error), through the non-linearity\n",
    "    #dpdw is the partial derivative of the pre-activation with respect to the weights.\n",
    "    #dpdw indicates the rate of change of p with respect to w (how much p will change if we change w)\n",
    "    #This will in fact indicate how much each weight will have to be changed given the error\n",
    "    #dldw = [the rate of change of p with respect to w] dot [(the partial derivative of the loss with respect to its input)*(the partial derivate of the activation with respect to the preactivation)] \n",
    "    dldw = np.dot(dpdw,dlda*dadp) # Dimensions = [4x3] = [4x6].([6x3]*[6x3]) #To make sure the dimensions are ok, do dimensionality check.\n",
    "\n",
    "    # Normalize gradient (as it calculated on all samples)\n",
    "    dldw /= n_samples\n",
    "    \n",
    "    # update weights using the gradient descent update rule\n",
    "    w += -learning_rate*dldw"
   ]
  },
  {
   "cell_type": "code",
   "execution_count": 6,
   "metadata": {},
   "outputs": [
    {
     "name": "stdout",
     "output_type": "stream",
     "text": [
      "Output After Training:\n",
      "()\n",
      "The output of the network\n",
      "()\n",
      "[[0.88975186 0.08097222 0.08335989]\n",
      " [0.90305226 0.06388478 0.06516458]\n",
      " [0.05945747 0.94688355 0.01616177]\n",
      " [0.06800183 0.93246856 0.01243509]\n",
      " [0.05946909 0.02025727 0.94667351]\n",
      " [0.068015   0.01576266 0.93154158]]\n",
      "()\n",
      "The ground truth:\n",
      "()\n",
      "[[1. 0. 0.]\n",
      " [1. 0. 0.]\n",
      " [0. 1. 0.]\n",
      " [0. 1. 0.]\n",
      " [0. 0. 1.]\n",
      " [0. 0. 1.]]\n",
      "()\n",
      "()\n",
      "Apply argmax on the output to get the index per row where the value is maximum\n",
      "()\n",
      "Prediction network\n",
      "()\n",
      "[0 0 1 1 2 2]\n",
      "()\n",
      "Ground truth\n",
      "()\n",
      "[0 0 1 1 2 2]\n"
     ]
    }
   ],
   "source": [
    "print(\"Output After Training:\")\n",
    "print()\n",
    "print(\"The output of the network\")\n",
    "print()\n",
    "print(a)\n",
    "print()\n",
    "print(\"The ground truth:\")\n",
    "print()\n",
    "print(y)\n",
    "print()\n",
    "print()\n",
    "print(\"Apply argmax on the output to get the index per row where the value is maximum\")\n",
    "print()\n",
    "print(\"Prediction network\")\n",
    "print()\n",
    "print(np.argmax(a,axis=1))\n",
    "print()\n",
    "print(\"Ground truth\")\n",
    "print()\n",
    "print(np.argmax(y,axis=1))"
   ]
  },
  {
   "cell_type": "markdown",
   "metadata": {},
   "source": [
    "#### Plot the loss"
   ]
  },
  {
   "cell_type": "code",
   "execution_count": 7,
   "metadata": {},
   "outputs": [
    {
     "data": {
      "image/png": "[encoded data removed]",
      "text/plain": [
       "<Figure size 432x288 with 1 Axes>"
      ]
     },
     "metadata": {},
     "output_type": "display_data"
    }
   ],
   "source": [
    "#As we can see, the loss goes down. \n",
    "plt.plot(loss_list)\n",
    "plt.show()"
   ]
  },
  {
   "cell_type": "code",
   "execution_count": null,
   "metadata": {
    "collapsed": true
   },
   "outputs": [],
   "source": []
  }
 ],
 "metadata": {
  "kernelspec": {
   "display_name": "Python 2",
   "language": "python",
   "name": "python2"
  },
  "language_info": {
   "codemirror_mode": {
    "name": "ipython",
    "version": 2
   },
   "file_extension": ".py",
   "mimetype": "text/x-python",
   "name": "python",
   "nbconvert_exporter": "python",
   "pygments_lexer": "ipython2",
   "version": "2.7.15"
  },
  "name": "Short example.ipynb"
 },
 "nbformat": 4,
 "nbformat_minor": 1
}
